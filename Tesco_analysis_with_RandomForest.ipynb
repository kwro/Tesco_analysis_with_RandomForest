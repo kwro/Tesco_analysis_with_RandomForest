{
 "cells": [
  {
   "cell_type": "code",
   "execution_count": 4,
   "metadata": {},
   "outputs": [],
   "source": [
    "import pandas as pd"
   ]
  },
  {
   "cell_type": "code",
   "execution_count": 5,
   "metadata": {},
   "outputs": [
    {
     "data": {
      "text/html": [
       "<div>\n",
       "<style scoped>\n",
       "    .dataframe tbody tr th:only-of-type {\n",
       "        vertical-align: middle;\n",
       "    }\n",
       "\n",
       "    .dataframe tbody tr th {\n",
       "        vertical-align: top;\n",
       "    }\n",
       "\n",
       "    .dataframe thead th {\n",
       "        text-align: right;\n",
       "    }\n",
       "</style>\n",
       "<table border=\"1\" class=\"dataframe\">\n",
       "  <thead>\n",
       "    <tr style=\"text-align: right;\">\n",
       "      <th></th>\n",
       "      <th>Y</th>\n",
       "      <th>brands_visited</th>\n",
       "      <th>visits_n_beforeBiedronka</th>\n",
       "      <th>visits_n_beforeCarrefour</th>\n",
       "      <th>visits_n_beforeKaufland</th>\n",
       "      <th>visits_n_beforeLidl</th>\n",
       "      <th>visits_pct_beforeBiedronka</th>\n",
       "      <th>visits_pct_beforeCarrefour</th>\n",
       "      <th>visits_pct_beforeKaufland</th>\n",
       "      <th>visits_pct_beforeLidl</th>\n",
       "      <th>...</th>\n",
       "      <th>time_minBiedronka</th>\n",
       "      <th>time_minCarrefour</th>\n",
       "      <th>time_minKaufland</th>\n",
       "      <th>time_minLidl</th>\n",
       "      <th>time_minTesco</th>\n",
       "      <th>n_locationsBiedronka</th>\n",
       "      <th>n_locationsCarrefour</th>\n",
       "      <th>n_locationsKaufland</th>\n",
       "      <th>n_locationsLidl</th>\n",
       "      <th>n_locationsTesco</th>\n",
       "    </tr>\n",
       "    <tr>\n",
       "      <th>user_id</th>\n",
       "      <th></th>\n",
       "      <th></th>\n",
       "      <th></th>\n",
       "      <th></th>\n",
       "      <th></th>\n",
       "      <th></th>\n",
       "      <th></th>\n",
       "      <th></th>\n",
       "      <th></th>\n",
       "      <th></th>\n",
       "      <th></th>\n",
       "      <th></th>\n",
       "      <th></th>\n",
       "      <th></th>\n",
       "      <th></th>\n",
       "      <th></th>\n",
       "      <th></th>\n",
       "      <th></th>\n",
       "      <th></th>\n",
       "      <th></th>\n",
       "      <th></th>\n",
       "    </tr>\n",
       "  </thead>\n",
       "  <tbody>\n",
       "    <tr>\n",
       "      <th>502308</th>\n",
       "      <td>Lidl</td>\n",
       "      <td>4.0</td>\n",
       "      <td>3</td>\n",
       "      <td>0</td>\n",
       "      <td>0</td>\n",
       "      <td>16</td>\n",
       "      <td>0.150000</td>\n",
       "      <td>0.000000</td>\n",
       "      <td>0.000000</td>\n",
       "      <td>0.8</td>\n",
       "      <td>...</td>\n",
       "      <td>747.0</td>\n",
       "      <td>0.0</td>\n",
       "      <td>0.0</td>\n",
       "      <td>531.0</td>\n",
       "      <td>1019.0</td>\n",
       "      <td>2.0</td>\n",
       "      <td>0.0</td>\n",
       "      <td>0.0</td>\n",
       "      <td>2.0</td>\n",
       "      <td>1.0</td>\n",
       "    </tr>\n",
       "    <tr>\n",
       "      <th>511288</th>\n",
       "      <td>Lidl</td>\n",
       "      <td>4.0</td>\n",
       "      <td>1</td>\n",
       "      <td>0</td>\n",
       "      <td>46</td>\n",
       "      <td>0</td>\n",
       "      <td>0.018182</td>\n",
       "      <td>0.000000</td>\n",
       "      <td>0.836364</td>\n",
       "      <td>0.0</td>\n",
       "      <td>...</td>\n",
       "      <td>904.0</td>\n",
       "      <td>0.0</td>\n",
       "      <td>478.0</td>\n",
       "      <td>787.0</td>\n",
       "      <td>778.0</td>\n",
       "      <td>3.0</td>\n",
       "      <td>0.0</td>\n",
       "      <td>1.0</td>\n",
       "      <td>3.0</td>\n",
       "      <td>1.0</td>\n",
       "    </tr>\n",
       "    <tr>\n",
       "      <th>513284</th>\n",
       "      <td>Carrefour</td>\n",
       "      <td>2.0</td>\n",
       "      <td>0</td>\n",
       "      <td>10</td>\n",
       "      <td>0</td>\n",
       "      <td>0</td>\n",
       "      <td>0.000000</td>\n",
       "      <td>0.833333</td>\n",
       "      <td>0.000000</td>\n",
       "      <td>0.0</td>\n",
       "      <td>...</td>\n",
       "      <td>0.0</td>\n",
       "      <td>523.0</td>\n",
       "      <td>0.0</td>\n",
       "      <td>0.0</td>\n",
       "      <td>501.0</td>\n",
       "      <td>0.0</td>\n",
       "      <td>1.0</td>\n",
       "      <td>0.0</td>\n",
       "      <td>0.0</td>\n",
       "      <td>1.0</td>\n",
       "    </tr>\n",
       "    <tr>\n",
       "      <th>616687</th>\n",
       "      <td>Carrefour</td>\n",
       "      <td>4.0</td>\n",
       "      <td>0</td>\n",
       "      <td>2</td>\n",
       "      <td>2</td>\n",
       "      <td>0</td>\n",
       "      <td>0.000000</td>\n",
       "      <td>0.333333</td>\n",
       "      <td>0.333333</td>\n",
       "      <td>0.0</td>\n",
       "      <td>...</td>\n",
       "      <td>0.0</td>\n",
       "      <td>759.0</td>\n",
       "      <td>781.0</td>\n",
       "      <td>760.0</td>\n",
       "      <td>771.0</td>\n",
       "      <td>0.0</td>\n",
       "      <td>1.0</td>\n",
       "      <td>1.0</td>\n",
       "      <td>1.0</td>\n",
       "      <td>1.0</td>\n",
       "    </tr>\n",
       "    <tr>\n",
       "      <th>632801</th>\n",
       "      <td>Carrefour</td>\n",
       "      <td>2.0</td>\n",
       "      <td>0</td>\n",
       "      <td>1</td>\n",
       "      <td>0</td>\n",
       "      <td>0</td>\n",
       "      <td>0.000000</td>\n",
       "      <td>0.500000</td>\n",
       "      <td>0.000000</td>\n",
       "      <td>0.0</td>\n",
       "      <td>...</td>\n",
       "      <td>0.0</td>\n",
       "      <td>1073.0</td>\n",
       "      <td>0.0</td>\n",
       "      <td>0.0</td>\n",
       "      <td>1230.0</td>\n",
       "      <td>0.0</td>\n",
       "      <td>1.0</td>\n",
       "      <td>0.0</td>\n",
       "      <td>0.0</td>\n",
       "      <td>1.0</td>\n",
       "    </tr>\n",
       "  </tbody>\n",
       "</table>\n",
       "<p>5 rows × 28 columns</p>\n",
       "</div>"
      ],
      "text/plain": [
       "                 Y  brands_visited  visits_n_beforeBiedronka  \\\n",
       "user_id                                                        \n",
       "502308        Lidl             4.0                         3   \n",
       "511288        Lidl             4.0                         1   \n",
       "513284   Carrefour             2.0                         0   \n",
       "616687   Carrefour             4.0                         0   \n",
       "632801   Carrefour             2.0                         0   \n",
       "\n",
       "         visits_n_beforeCarrefour  visits_n_beforeKaufland  \\\n",
       "user_id                                                      \n",
       "502308                          0                        0   \n",
       "511288                          0                       46   \n",
       "513284                         10                        0   \n",
       "616687                          2                        2   \n",
       "632801                          1                        0   \n",
       "\n",
       "         visits_n_beforeLidl  visits_pct_beforeBiedronka  \\\n",
       "user_id                                                    \n",
       "502308                    16                    0.150000   \n",
       "511288                     0                    0.018182   \n",
       "513284                     0                    0.000000   \n",
       "616687                     0                    0.000000   \n",
       "632801                     0                    0.000000   \n",
       "\n",
       "         visits_pct_beforeCarrefour  visits_pct_beforeKaufland  \\\n",
       "user_id                                                          \n",
       "502308                     0.000000                   0.000000   \n",
       "511288                     0.000000                   0.836364   \n",
       "513284                     0.833333                   0.000000   \n",
       "616687                     0.333333                   0.333333   \n",
       "632801                     0.500000                   0.000000   \n",
       "\n",
       "         visits_pct_beforeLidl  ...  time_minBiedronka  time_minCarrefour  \\\n",
       "user_id                         ...                                         \n",
       "502308                     0.8  ...              747.0                0.0   \n",
       "511288                     0.0  ...              904.0                0.0   \n",
       "513284                     0.0  ...                0.0              523.0   \n",
       "616687                     0.0  ...                0.0              759.0   \n",
       "632801                     0.0  ...                0.0             1073.0   \n",
       "\n",
       "         time_minKaufland  time_minLidl  time_minTesco  n_locationsBiedronka  \\\n",
       "user_id                                                                        \n",
       "502308                0.0         531.0         1019.0                   2.0   \n",
       "511288              478.0         787.0          778.0                   3.0   \n",
       "513284                0.0           0.0          501.0                   0.0   \n",
       "616687              781.0         760.0          771.0                   0.0   \n",
       "632801                0.0           0.0         1230.0                   0.0   \n",
       "\n",
       "         n_locationsCarrefour  n_locationsKaufland  n_locationsLidl  \\\n",
       "user_id                                                               \n",
       "502308                    0.0                  0.0              2.0   \n",
       "511288                    0.0                  1.0              3.0   \n",
       "513284                    1.0                  0.0              0.0   \n",
       "616687                    1.0                  1.0              1.0   \n",
       "632801                    1.0                  0.0              0.0   \n",
       "\n",
       "         n_locationsTesco  \n",
       "user_id                    \n",
       "502308                1.0  \n",
       "511288                1.0  \n",
       "513284                1.0  \n",
       "616687                1.0  \n",
       "632801                1.0  \n",
       "\n",
       "[5 rows x 28 columns]"
      ]
     },
     "execution_count": 5,
     "metadata": {},
     "output_type": "execute_result"
    }
   ],
   "source": [
    "# load the dataset\n",
    "data = pd.read_csv('~/Documents/Raporty/Medium/Tesco_Stalowa_closed/tesco_users_data.csv', \n",
    "                   index_col='user_id')\n",
    "data.head()"
   ]
  },
  {
   "cell_type": "code",
   "execution_count": 129,
   "metadata": {},
   "outputs": [],
   "source": [
    "from sklearn.model_selection import train_test_split\n",
    "\n",
    "X_train, X_valid, y_train, y_valid = train_test_split(data.iloc[:, 1:], data.Y,\n",
    "                                                     test_size=0.3,\n",
    "                                                      random_state=1)\n"
   ]
  },
  {
   "cell_type": "code",
   "execution_count": 130,
   "metadata": {},
   "outputs": [
    {
     "name": "stdout",
     "output_type": "stream",
     "text": [
      "Accuracy: 0.5420560747663551\n"
     ]
    }
   ],
   "source": [
    "from sklearn.metrics import accuracy_score, make_scorer\n",
    "from sklearn.ensemble import RandomForestClassifier\n",
    "\n",
    "\n",
    "forest = RandomForestClassifier(random_state=4)\n",
    "forest.fit(X_train, y_train)\n",
    "forest_preds = forest.predict(X_valid)\n",
    "print( 'Accuracy: {}'.format(accuracy_score(y_valid, forest_preds)))"
   ]
  },
  {
   "cell_type": "code",
   "execution_count": 131,
   "metadata": {},
   "outputs": [
    {
     "name": "stdout",
     "output_type": "stream",
     "text": [
      "[0.61764706 0.55882353 0.48039216 0.49019608 0.57843137 0.57843137\n",
      " 0.4950495 ] \n",
      " 0.542710153368278\n"
     ]
    }
   ],
   "source": [
    "from sklearn.model_selection import cross_val_score\n",
    "forest_cv = cross_val_score(forest, data.iloc[:, 1:], data.Y,\n",
    "                              cv=7,\n",
    "                              scoring='accuracy')\n",
    "print(forest_cv, '\\n', forest_cv.mean())"
   ]
  },
  {
   "cell_type": "code",
   "execution_count": 134,
   "metadata": {},
   "outputs": [
    {
     "data": {
      "text/plain": [
       "0.3925233644859813"
      ]
     },
     "execution_count": 134,
     "metadata": {},
     "output_type": "execute_result"
    }
   ],
   "source": [
    "from sklearn.naive_bayes import GaussianNB\n",
    "\n",
    "gnb = GaussianNB()\n",
    "gnb.fit(X_train, y_train)\n",
    "y_pred = gnb.predict(X_valid)\n",
    "accuracy_score(y_valid, y_pred)\n",
    "# gnb.score(y_pred.reshape(-1, 1) ,y_valid)"
   ]
  },
  {
   "cell_type": "code",
   "execution_count": 133,
   "metadata": {},
   "outputs": [
    {
     "name": "stdout",
     "output_type": "stream",
     "text": [
      "[0.48039216 0.46078431 0.41176471 0.40196078 0.47058824 0.40196078\n",
      " 0.41584158] \n",
      " 0.4347560806500818\n"
     ]
    }
   ],
   "source": [
    "gbn_cv = cross_val_score(gnb, data.iloc[:, 1:], data.Y,\n",
    "                              cv=7,\n",
    "                              scoring='accuracy')\n",
    "print(gbn_cv, '\\n', gbn_cv.mean())"
   ]
  },
  {
   "cell_type": "markdown",
   "metadata": {},
   "source": [
    "The Random Forest Classifier has the highest accuracy, so this is the model I'm developing in the following part"
   ]
  },
  {
   "cell_type": "code",
   "execution_count": 135,
   "metadata": {},
   "outputs": [],
   "source": [
    "# draw the tree\n",
    "from sklearn.tree import export_graphviz\n",
    "\n",
    "export_graphviz(forest[3], out_file='tree1.dot', \n",
    "                feature_names = X_train.columns.values,\n",
    "                class_names = list(y_train.unique()),\n",
    "                rounded = True, proportion = False, \n",
    "                precision = 2, filled = True)\n"
   ]
  },
  {
   "cell_type": "code",
   "execution_count": 149,
   "metadata": {},
   "outputs": [
    {
     "data": {
      "text/html": [
       "<div>\n",
       "<style scoped>\n",
       "    .dataframe tbody tr th:only-of-type {\n",
       "        vertical-align: middle;\n",
       "    }\n",
       "\n",
       "    .dataframe tbody tr th {\n",
       "        vertical-align: top;\n",
       "    }\n",
       "\n",
       "    .dataframe thead th {\n",
       "        text-align: right;\n",
       "    }\n",
       "</style>\n",
       "<table border=\"1\" class=\"dataframe\">\n",
       "  <thead>\n",
       "    <tr style=\"text-align: right;\">\n",
       "      <th></th>\n",
       "      <th>importance</th>\n",
       "    </tr>\n",
       "  </thead>\n",
       "  <tbody>\n",
       "    <tr>\n",
       "      <th>n_locationsLidl</th>\n",
       "      <td>0.188638</td>\n",
       "    </tr>\n",
       "    <tr>\n",
       "      <th>n_locationsBiedronka</th>\n",
       "      <td>0.141460</td>\n",
       "    </tr>\n",
       "    <tr>\n",
       "      <th>visits_pct_beforeBiedronka</th>\n",
       "      <td>0.112307</td>\n",
       "    </tr>\n",
       "    <tr>\n",
       "      <th>visits_pct_beforeLidl</th>\n",
       "      <td>0.102604</td>\n",
       "    </tr>\n",
       "    <tr>\n",
       "      <th>visits_n_beforeCarrefour</th>\n",
       "      <td>0.091871</td>\n",
       "    </tr>\n",
       "    <tr>\n",
       "      <th>visits_pct_beforeCarrefour</th>\n",
       "      <td>0.071804</td>\n",
       "    </tr>\n",
       "    <tr>\n",
       "      <th>visits_n_beforeBiedronka</th>\n",
       "      <td>0.064475</td>\n",
       "    </tr>\n",
       "    <tr>\n",
       "      <th>n_locationsKaufland</th>\n",
       "      <td>0.055419</td>\n",
       "    </tr>\n",
       "    <tr>\n",
       "      <th>visits_n_beforeLidl</th>\n",
       "      <td>0.049159</td>\n",
       "    </tr>\n",
       "    <tr>\n",
       "      <th>visits_n_beforeKaufland</th>\n",
       "      <td>0.036902</td>\n",
       "    </tr>\n",
       "    <tr>\n",
       "      <th>visits_pct_beforeKaufland</th>\n",
       "      <td>0.033393</td>\n",
       "    </tr>\n",
       "    <tr>\n",
       "      <th>n_locationsCarrefour</th>\n",
       "      <td>0.031516</td>\n",
       "    </tr>\n",
       "    <tr>\n",
       "      <th>n_locationsTesco</th>\n",
       "      <td>0.011040</td>\n",
       "    </tr>\n",
       "    <tr>\n",
       "      <th>brands_visited</th>\n",
       "      <td>0.009412</td>\n",
       "    </tr>\n",
       "  </tbody>\n",
       "</table>\n",
       "</div>"
      ],
      "text/plain": [
       "                            importance\n",
       "n_locationsLidl               0.188638\n",
       "n_locationsBiedronka          0.141460\n",
       "visits_pct_beforeBiedronka    0.112307\n",
       "visits_pct_beforeLidl         0.102604\n",
       "visits_n_beforeCarrefour      0.091871\n",
       "visits_pct_beforeCarrefour    0.071804\n",
       "visits_n_beforeBiedronka      0.064475\n",
       "n_locationsKaufland           0.055419\n",
       "visits_n_beforeLidl           0.049159\n",
       "visits_n_beforeKaufland       0.036902\n",
       "visits_pct_beforeKaufland     0.033393\n",
       "n_locationsCarrefour          0.031516\n",
       "n_locationsTesco              0.011040\n",
       "brands_visited                0.009412"
      ]
     },
     "execution_count": 149,
     "metadata": {},
     "output_type": "execute_result"
    }
   ],
   "source": [
    "feature_importances = pd.DataFrame(forest[2].feature_importances_,\n",
    "                                   index = X_train.columns,\n",
    "                                    columns=['importance']).sort_values('importance',  ascending=False)\n",
    "feature_importances"
   ]
  },
  {
   "cell_type": "code",
   "execution_count": 150,
   "metadata": {},
   "outputs": [
    {
     "name": "stdout",
     "output_type": "stream",
     "text": [
      "1 0.4459744293757107\n",
      "2 0.5553845300496436\n",
      "3 0.5217017500069334\n",
      "4 0.5062539867432122\n",
      "5 0.49504950495049505\n",
      "6 0.4754139279474166\n",
      "7 0.4810161688437752\n",
      "8 0.5160024405801925\n",
      "9 0.5104695343483928\n",
      "10 0.5216601492081981\n",
      "11 0.5469118340405469\n",
      "12 0.5538869012951716\n",
      "13 0.5819951743073466\n",
      "14 0.56939013229054\n",
      "15 0.56939013229054\n",
      "16 0.56939013229054\n",
      "17 0.56939013229054\n",
      "18 0.56939013229054\n",
      "19 0.56939013229054\n"
     ]
    }
   ],
   "source": [
    "for i in range(1,20):\n",
    "    forest_cv = cross_val_score(forest, data.loc[:, feature_importances.index[:i]], data.Y,\n",
    "                              cv=7,\n",
    "                              scoring='accuracy')\n",
    "    print(i, forest_cv.mean() )"
   ]
  },
  {
   "cell_type": "code",
   "execution_count": 151,
   "metadata": {},
   "outputs": [
    {
     "name": "stdout",
     "output_type": "stream",
     "text": [
      "[0.6372549  0.56862745 0.57843137 0.55882353 0.60784314 0.57843137\n",
      " 0.54455446] \n",
      " 0.5819951743073466\n"
     ]
    }
   ],
   "source": [
    "forest_cv = cross_val_score(forest, data.loc[:, feature_importances.index[:13]], data.Y,\n",
    "                              cv=7,\n",
    "                              scoring='accuracy')\n",
    "print(forest_cv, '\\n', forest_cv.mean())"
   ]
  },
  {
   "cell_type": "code",
   "execution_count": 152,
   "metadata": {},
   "outputs": [
    {
     "name": "stdout",
     "output_type": "stream",
     "text": [
      "RandomForestClassifier(bootstrap=True, ccp_alpha=0.0, class_weight=None,\n",
      "                       criterion='gini', max_depth=5, max_features='auto',\n",
      "                       max_leaf_nodes=None, max_samples=None,\n",
      "                       min_impurity_decrease=0.0, min_impurity_split=None,\n",
      "                       min_samples_leaf=1, min_samples_split=2,\n",
      "                       min_weight_fraction_leaf=0.0, n_estimators=100,\n",
      "                       n_jobs=None, oob_score=False, random_state=4, verbose=0,\n",
      "                       warm_start=False)\n"
     ]
    }
   ],
   "source": [
    "from sklearn.model_selection import GridSearchCV\n",
    "\n",
    "parameters = {\n",
    "    'n_estimators': [100], \n",
    "              'max_depth': [2,3,4,5],\n",
    "              'min_samples_leaf': [1, 10],\n",
    "              'max_features': ['auto'], \n",
    "              'criterion': [ 'gini'],\n",
    "              'bootstrap': [True, False]\n",
    "             }\n",
    "\n",
    "grid_obj = GridSearchCV(forest, parameters, scoring=make_scorer(accuracy_score))\n",
    "grid_obj = grid_obj.fit( X_train.loc[:, feature_importances.index[:13]], y_train)\n",
    "best_rf = grid_obj.best_estimator_\n",
    "print(best_rf)"
   ]
  },
  {
   "cell_type": "code",
   "execution_count": 153,
   "metadata": {},
   "outputs": [
    {
     "data": {
      "text/plain": [
       "0.5233644859813084"
      ]
     },
     "execution_count": 153,
     "metadata": {},
     "output_type": "execute_result"
    }
   ],
   "source": [
    "best_rf.fit( X_train.loc[:, feature_importances.index[:13]], y_train)\n",
    "best_rf_y_pred = best_rf.predict(X_valid.loc[:, feature_importances.index[:13]])\n",
    "accuracy_score( y_valid, best_rf_y_pred)"
   ]
  },
  {
   "cell_type": "code",
   "execution_count": 162,
   "metadata": {},
   "outputs": [
    {
     "name": "stdout",
     "output_type": "stream",
     "text": [
      "Accuracy: 0.5280373831775701\n"
     ]
    }
   ],
   "source": [
    "forest2 = RandomForestClassifier(random_state=4, bootstrap=False, max_depth=3)\n",
    "forest2.fit( X_train.loc[:, feature_importances.index[:13]], y_train)\n",
    "forest_preds2 = forest2.predict(X_valid.loc[:, feature_importances.index[:13]])\n",
    "print( 'Accuracy: {}'.format(accuracy_score(y_valid, forest_preds2)))"
   ]
  },
  {
   "cell_type": "code",
   "execution_count": 164,
   "metadata": {},
   "outputs": [],
   "source": [
    "# rysuj drzewo\n",
    "export_graphviz(forest2[0], out_file='tree2.dot', \n",
    "                feature_names = feature_importances.index[:13],\n",
    "                class_names = ['Biedronka', 'Carrefour', 'Kaufland', 'Lidl'],\n",
    "                rounded = True, proportion = False, \n",
    "                precision = 2, filled = True)\n",
    "\n"
   ]
  },
  {
   "cell_type": "code",
   "execution_count": 184,
   "metadata": {},
   "outputs": [
    {
     "data": {
      "image/png": "[encoded data removed]",
      "text/plain": [
       "<Figure size 432x288 with 2 Axes>"
      ]
     },
     "metadata": {
      "needs_background": "light"
     },
     "output_type": "display_data"
    }
   ],
   "source": [
    "import seaborn as sns\n",
    "import matplotlib.pyplot as plt\n",
    "from sklearn.metrics import confusion_matrix\n",
    "\n",
    "cm =  confusion_matrix(y_valid, best_rf_y_pred, labels=data.Y.unique())\n",
    "ax= plt.subplot()\n",
    "sns.heatmap(cm, annot=True, ax = ax, cmap=\"Blues\")\n",
    "\n",
    "# labels, title and ticks\n",
    "ax.set_xlabel('Predicted labels');ax.set_ylabel('True labels'); \n",
    "ax.set_title('Confusion Matrix'); \n",
    "ax.xaxis.set_ticklabels(data.Y.unique()); ax.yaxis.set_ticklabels(data.Y.unique());"
   ]
  },
  {
   "cell_type": "code",
   "execution_count": 115,
   "metadata": {},
   "outputs": [
    {
     "name": "stdout",
     "output_type": "stream",
     "text": [
      "              precision    recall  f1-score   support\n",
      "\n",
      "   Biedronka       0.58      0.87      0.69        77\n",
      "   Carrefour       0.67      0.20      0.31        50\n",
      "    Kaufland       0.80      0.22      0.34        37\n",
      "        Lidl       0.49      0.72      0.59        50\n",
      "\n",
      "    accuracy                           0.57       214\n",
      "   macro avg       0.63      0.50      0.48       214\n",
      "weighted avg       0.62      0.57      0.52       214\n",
      "\n"
     ]
    }
   ],
   "source": [
    "from sklearn.metrics import classification_report\n",
    "print(classification_report(y_valid, best_rf_y_pred))"
   ]
  },
  {
   "cell_type": "code",
   "execution_count": null,
   "metadata": {},
   "outputs": [],
   "source": []
  }
 ],
 "metadata": {
  "kernelspec": {
   "display_name": "Python 3",
   "language": "python",
   "name": "python3"
  },
  "language_info": {
   "codemirror_mode": {
    "name": "ipython",
    "version": 3
   },
   "file_extension": ".py",
   "mimetype": "text/x-python",
   "name": "python",
   "nbconvert_exporter": "python",
   "pygments_lexer": "ipython3",
   "version": "3.7.1"
  }
 },
 "nbformat": 4,
 "nbformat_minor": 4
}
